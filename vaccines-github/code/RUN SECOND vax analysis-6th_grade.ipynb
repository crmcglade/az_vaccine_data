{
 "cells": [
  {
   "cell_type": "code",
   "execution_count": 10,
   "id": "289a9847",
   "metadata": {},
   "outputs": [],
   "source": [
    "import pandas as pd"
   ]
  },
  {
   "cell_type": "code",
   "execution_count": 11,
   "id": "68811673",
   "metadata": {},
   "outputs": [],
   "source": [
    "master = pd.read_csv('/Users/cmcglade/Documents/vaccines/vaccines-github/output_files/sixth_grade_vax.csv')"
   ]
  },
  {
   "cell_type": "code",
   "execution_count": 12,
   "id": "b8bc9c88",
   "metadata": {},
   "outputs": [],
   "source": [
    "#clean data\n",
    "master['enrolled'] = master['enrolled'].str.replace(',', '', regex=True)\n",
    "master = master[~master['enrolled'].astype(str).str.contains('<')]\n",
    "master = master[~master['enrolled'].astype(str).str.contains('≤')]\n",
    "master['enrolled'] = pd.to_numeric(master['enrolled'])\n",
    "\n",
    "master['dtap'] = master['dtap'].str.replace('%', '', regex=True)\n",
    "master['polio'] = master['polio'].str.replace('%', '', regex=True)\n",
    "master['mmr'] = master['mmr'].str.replace('%', '', regex=True)\n",
    "master['hepb'] = master['hepb'].str.replace('%', '', regex=True)\n",
    "master['var'] = master['var'].str.replace('%', '', regex=True)\n",
    "\n",
    "master['dtap'] = pd.to_numeric(master['dtap'])\n",
    "master['polio'] = pd.to_numeric(master['polio'])\n",
    "master['mmr'] = pd.to_numeric(master['mmr'])\n",
    "master['hepb'] = pd.to_numeric(master['hepb'])\n",
    "master['var'] = pd.to_numeric(master['var'])\n",
    "\n",
    "master['dtap'] = master['dtap']*.01\n",
    "master['polio'] = master['polio']*.01\n",
    "master['mmr'] = master['mmr']*.01\n",
    "master['hepb'] = master['hepb']*.01\n",
    "master['var'] = master['var']*.01\n",
    "\n",
    "master = master.applymap(lambda x: x.lower() if isinstance(x, str) else x)\n",
    "\n",
    "master['exempt_dtap'] = master['exempt_dtap'].str.replace('%', '', regex=True)\n",
    "master['exempt_polio'] = master['exempt_polio'].str.replace('%', '', regex=True)\n",
    "master['exempt_mmr'] = master['exempt_mmr'].str.replace('%', '', regex=True)\n",
    "master['exempt_hepb'] = master['exempt_hepb'].str.replace('%', '', regex=True)\n",
    "master['exempt_var'] = master['exempt_var'].str.replace('%', '', regex=True)\n",
    "\n",
    "master['exempt_dtap'] = pd.to_numeric(master['exempt_dtap'])\n",
    "master['exempt_polio'] = pd.to_numeric(master['exempt_polio'])\n",
    "master['exempt_mmr'] = pd.to_numeric(master['exempt_mmr'])\n",
    "master['exempt_hepb'] = pd.to_numeric(master['exempt_hepb'])\n",
    "master['exempt_var'] = pd.to_numeric(master['exempt_var'])\n",
    "\n",
    "master['exempt_dtap'] = master['exempt_dtap']*.01\n",
    "master['exempt_polio'] = master['exempt_polio']*.01\n",
    "master['exempt_mmr'] = master['exempt_mmr']*.01\n",
    "master['exempt_hepb'] = master['exempt_hepb']*.01\n",
    "master['exempt_var'] = master['exempt_var']*.01"
   ]
  },
  {
   "cell_type": "code",
   "execution_count": 13,
   "id": "a25345ba",
   "metadata": {},
   "outputs": [],
   "source": [
    "#Calculate raw numbers\n",
    "import numpy as np\n",
    "master['mmr_vax_count'] = np.ceil(master['enrolled']*master['mmr'])\n",
    "master['exempt_count_mmr'] = np.ceil(master['exempt_mmr'] * master['mmr_vax_count'])\n",
    "master['unvax_mmr'] = np.ceil(master['enrolled'] - master['mmr_vax_count'])\n",
    "master['missing_forms_mmr'] = master['unvax_mmr']-master['exempt_count_mmr']\n",
    "\n",
    "master['polio_vax_count'] = np.ceil(master['enrolled']*master['polio'])\n",
    "master['exempt_count_polio'] = np.ceil(master['exempt_polio'] * master['polio_vax_count'])\n",
    "master['unvax_polio'] = np.ceil(master['enrolled'] - master['polio_vax_count'])\n",
    "master['missing_forms_polio'] = master['unvax_polio']-master['exempt_count_polio']\n",
    "\n",
    "master['dtap_vax_count'] = np.ceil(master['enrolled']*master['dtap'])\n",
    "master['exempt_count_dtap'] = np.ceil(master['exempt_dtap'] * master['dtap_vax_count'])\n",
    "master['unvax_dtap'] = np.ceil(master['enrolled'] - master['dtap_vax_count'])\n",
    "master['missing_forms_dtap'] = master['unvax_dtap']-master['exempt_count_dtap']\n",
    "\n",
    "master['hep_vax_count'] = np.ceil(master['enrolled']*master['hepb'])\n",
    "master['exempt_count_hep'] = np.ceil(master['exempt_hepb'] * master['hep_vax_count'])\n",
    "master['unvax_hep'] = np.ceil(master['enrolled'] - master['hep_vax_count'])\n",
    "master['missing_forms_hep'] = master['unvax_hep']-master['exempt_count_hep']\n",
    "\n",
    "master['var_vax_count'] = np.ceil(master['enrolled']*master['var'])\n",
    "master['exempt_count_var'] = np.ceil(master['exempt_var'] * master['var_vax_count'])\n",
    "master['unvax_var'] = np.ceil(master['enrolled'] - master['var_vax_count'])\n",
    "master['missing_forms_var'] = master['unvax_var']-master['exempt_count_var']"
   ]
  },
  {
   "cell_type": "code",
   "execution_count": 14,
   "id": "e368357c",
   "metadata": {},
   "outputs": [],
   "source": [
    "#flag 2 or more missing forms\n",
    "master['mf2_mmr'] = np.where(master['missing_forms_mmr'] >= 2, 'yes', 'no') \n",
    "master['mf2_polio'] = np.where(master['missing_forms_polio'] >= 2, 'yes', 'no') \n",
    "master['mf2_dtap'] = np.where(master['missing_forms_dtap'] >= 2, 'yes', 'no') \n",
    "master['mf2_hep'] = np.where(master['missing_forms_hep'] >= 2, 'yes', 'no')\n",
    "master['mf2_var'] = np.where(master['missing_forms_var'] >= 2, 'yes', 'no') "
   ]
  },
  {
   "cell_type": "code",
   "execution_count": 15,
   "id": "e3b4e7cd",
   "metadata": {},
   "outputs": [],
   "source": [
    "#flag herd immununity\n",
    "master['mmr_herd_immune'] = np.where(master['mmr'] >= .95, 'yes', 'no') \n",
    "master['polio_herd_immune'] = np.where(master['polio'] >= .95, 'yes', 'no') \n",
    "master['dtap_herd_immune'] = np.where(master['dtap'] >= .95, 'yes', 'no') \n",
    "master['hep_herd_immune'] = np.where(master['hepb'] >= .95, 'yes', 'no') \n",
    "master['var_herd_immune'] = np.where(master['var'] >= .95, 'yes', 'no') "
   ]
  },
  {
   "cell_type": "code",
   "execution_count": 16,
   "id": "fc6f3667",
   "metadata": {},
   "outputs": [],
   "source": [
    "#get total kids per year\n",
    "totalkids = master.groupby('year')['enrolled'].sum().to_frame(name = 'total_kids').reset_index()\n",
    "\n",
    "#get total kids vaccinated for mmr each year\n",
    "measles_vax = master.groupby('year')['mmr_vax_count'].sum().to_frame(name = 'measles_vax_kids').reset_index()\n",
    "\n",
    "#get total kids vaccinated for polio each year\n",
    "polio_vax = master.groupby('year')['polio_vax_count'].sum().to_frame(name = 'polio_vax_kids').reset_index()\n",
    "\n",
    "#get total kids vaccinated for dtap each year\n",
    "dtap_vax = master.groupby('year')['dtap_vax_count'].sum().to_frame(name = 'dtap_vax_kids').reset_index()\n",
    "\n",
    "#get total kids vaccinated for hep each year\n",
    "hep_vax = master.groupby('year')['hep_vax_count'].sum().to_frame(name = 'hep_vax_kids').reset_index()\n",
    "\n",
    "#get total kids vaccinated for varicella each year\n",
    "var_vax = master.groupby('year')['var_vax_count'].sum().to_frame(name = 'var_vax_kids').reset_index()\n",
    "\n",
    "from functools import reduce\n",
    "# List of DataFrames to merge\n",
    "data_frames = [totalkids, measles_vax, polio_vax, dtap_vax, hep_vax, var_vax]\n",
    "\n",
    "# Merge all DataFrames in one line\n",
    "statewide = reduce(lambda left, right: pd.merge(left, right, on='year'), data_frames)\n",
    "\n",
    "\n",
    "#calculate percentages\n",
    "statewide['percent_vax_mmr']= statewide['measles_vax_kids']/statewide['total_kids'] \n",
    "statewide['percent_vax_polio']= statewide['polio_vax_kids']/statewide['total_kids'] \n",
    "statewide['percent_vax_dtap']= statewide['dtap_vax_kids']/statewide['total_kids'] \n",
    "statewide['percent_vax_hep']= statewide['hep_vax_kids']/statewide['total_kids']\n",
    "statewide['percent_vax_var']= statewide['var_vax_kids']/statewide['total_kids'] \n",
    "\n",
    "\n"
   ]
  },
  {
   "cell_type": "code",
   "execution_count": 17,
   "id": "bd92d988",
   "metadata": {},
   "outputs": [],
   "source": [
    "statewide.to_csv('/Users/cmcglade/Documents/vaccines/vaccines-github/output_files/statewide_vax_rates_6th.csv')"
   ]
  },
  {
   "cell_type": "code",
   "execution_count": 18,
   "id": "7d56a315",
   "metadata": {},
   "outputs": [],
   "source": [
    "master.to_csv('/Users/cmcglade/Documents/vaccines/vaccines-github/output_files/clean_6th_grade.csv')"
   ]
  },
  {
   "cell_type": "code",
   "execution_count": null,
   "id": "72595a2a",
   "metadata": {},
   "outputs": [],
   "source": []
  }
 ],
 "metadata": {
  "kernelspec": {
   "display_name": "Python 3 (ipykernel)",
   "language": "python",
   "name": "python3"
  },
  "language_info": {
   "codemirror_mode": {
    "name": "ipython",
    "version": 3
   },
   "file_extension": ".py",
   "mimetype": "text/x-python",
   "name": "python",
   "nbconvert_exporter": "python",
   "pygments_lexer": "ipython3",
   "version": "3.8.8"
  }
 },
 "nbformat": 4,
 "nbformat_minor": 5
}
