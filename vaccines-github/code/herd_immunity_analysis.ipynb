{
 "cells": [
  {
   "cell_type": "code",
   "execution_count": 23,
   "id": "191ab45a",
   "metadata": {},
   "outputs": [],
   "source": [
    "import pandas as pd"
   ]
  },
  {
   "cell_type": "code",
   "execution_count": 24,
   "id": "2d5f481e",
   "metadata": {},
   "outputs": [],
   "source": [
    "df = pd.read_csv('/Users/cmcglade/Documents/vaccines/vaccines-github/output_files/clean_kindergarten.csv')"
   ]
  },
  {
   "cell_type": "code",
   "execution_count": 25,
   "id": "47aa4421",
   "metadata": {},
   "outputs": [],
   "source": [
    "total_schools = df.groupby('year')['year'].count().to_frame(name = 'total_schools').reset_index()\n",
    "herd_immune = df[df['mmr_herd_immune'] == 'yes']\n",
    "herd_immune_count = herd_immune.groupby('year')['year'].count().to_frame(name = 'herd_immune_schools').reset_index()\n",
    "\n",
    "herd_immune_group = pd.merge(herd_immune_count, total_schools)\n",
    "herd_immune_group['percent']= herd_immune_group['herd_immune_schools']/herd_immune_group['total_schools']"
   ]
  },
  {
   "cell_type": "code",
   "execution_count": 26,
   "id": "f43ef8b9",
   "metadata": {},
   "outputs": [],
   "source": [
    "herd_immune_group.to_csv('/Users/cmcglade/Documents/vaccines/vaccines-github/output_files/herd_immune_kindergarten_rate.csv')"
   ]
  },
  {
   "cell_type": "code",
   "execution_count": 31,
   "id": "cb408f78",
   "metadata": {},
   "outputs": [],
   "source": [
    "df6 = pd.read_csv('/Users/cmcglade/Documents/vaccines/vaccines-github/output_files/clean_6th_grade.csv')"
   ]
  },
  {
   "cell_type": "code",
   "execution_count": 32,
   "id": "d990e984",
   "metadata": {},
   "outputs": [
    {
     "data": {
      "text/html": [
       "<div>\n",
       "<style scoped>\n",
       "    .dataframe tbody tr th:only-of-type {\n",
       "        vertical-align: middle;\n",
       "    }\n",
       "\n",
       "    .dataframe tbody tr th {\n",
       "        vertical-align: top;\n",
       "    }\n",
       "\n",
       "    .dataframe thead th {\n",
       "        text-align: right;\n",
       "    }\n",
       "</style>\n",
       "<table border=\"1\" class=\"dataframe\">\n",
       "  <thead>\n",
       "    <tr style=\"text-align: right;\">\n",
       "      <th></th>\n",
       "      <th>year</th>\n",
       "      <th>herd_immune_schools</th>\n",
       "      <th>total_schools</th>\n",
       "      <th>percent</th>\n",
       "    </tr>\n",
       "  </thead>\n",
       "  <tbody>\n",
       "    <tr>\n",
       "      <th>0</th>\n",
       "      <td>2015</td>\n",
       "      <td>764</td>\n",
       "      <td>929</td>\n",
       "      <td>0.822390</td>\n",
       "    </tr>\n",
       "    <tr>\n",
       "      <th>1</th>\n",
       "      <td>2016</td>\n",
       "      <td>740</td>\n",
       "      <td>930</td>\n",
       "      <td>0.795699</td>\n",
       "    </tr>\n",
       "    <tr>\n",
       "      <th>2</th>\n",
       "      <td>2017</td>\n",
       "      <td>739</td>\n",
       "      <td>908</td>\n",
       "      <td>0.813877</td>\n",
       "    </tr>\n",
       "    <tr>\n",
       "      <th>3</th>\n",
       "      <td>2018</td>\n",
       "      <td>696</td>\n",
       "      <td>908</td>\n",
       "      <td>0.766520</td>\n",
       "    </tr>\n",
       "    <tr>\n",
       "      <th>4</th>\n",
       "      <td>2019</td>\n",
       "      <td>695</td>\n",
       "      <td>1037</td>\n",
       "      <td>0.670203</td>\n",
       "    </tr>\n",
       "    <tr>\n",
       "      <th>5</th>\n",
       "      <td>2020</td>\n",
       "      <td>687</td>\n",
       "      <td>1039</td>\n",
       "      <td>0.661213</td>\n",
       "    </tr>\n",
       "    <tr>\n",
       "      <th>6</th>\n",
       "      <td>2021</td>\n",
       "      <td>728</td>\n",
       "      <td>1138</td>\n",
       "      <td>0.639719</td>\n",
       "    </tr>\n",
       "    <tr>\n",
       "      <th>7</th>\n",
       "      <td>2022</td>\n",
       "      <td>666</td>\n",
       "      <td>1013</td>\n",
       "      <td>0.657453</td>\n",
       "    </tr>\n",
       "    <tr>\n",
       "      <th>8</th>\n",
       "      <td>2023</td>\n",
       "      <td>632</td>\n",
       "      <td>1025</td>\n",
       "      <td>0.616585</td>\n",
       "    </tr>\n",
       "  </tbody>\n",
       "</table>\n",
       "</div>"
      ],
      "text/plain": [
       "   year  herd_immune_schools  total_schools   percent\n",
       "0  2015                  764            929  0.822390\n",
       "1  2016                  740            930  0.795699\n",
       "2  2017                  739            908  0.813877\n",
       "3  2018                  696            908  0.766520\n",
       "4  2019                  695           1037  0.670203\n",
       "5  2020                  687           1039  0.661213\n",
       "6  2021                  728           1138  0.639719\n",
       "7  2022                  666           1013  0.657453\n",
       "8  2023                  632           1025  0.616585"
      ]
     },
     "execution_count": 32,
     "metadata": {},
     "output_type": "execute_result"
    }
   ],
   "source": [
    "total_schools = df6.groupby('year')['year'].count().to_frame(name = 'total_schools').reset_index()\n",
    "herd_immune = df6[df6['mmr_herd_immune'] == 'yes']\n",
    "herd_immune_count = herd_immune.groupby('year')['year'].count().to_frame(name = 'herd_immune_schools').reset_index()\n",
    "\n",
    "herd_immune_group = pd.merge(herd_immune_count, total_schools)\n",
    "herd_immune_group['percent']= herd_immune_group['herd_immune_schools']/herd_immune_group['total_schools']\n",
    "herd_immune_group"
   ]
  },
  {
   "cell_type": "code",
   "execution_count": null,
   "id": "cc3730cd",
   "metadata": {},
   "outputs": [],
   "source": []
  }
 ],
 "metadata": {
  "kernelspec": {
   "display_name": "Python 3 (ipykernel)",
   "language": "python",
   "name": "python3"
  },
  "language_info": {
   "codemirror_mode": {
    "name": "ipython",
    "version": 3
   },
   "file_extension": ".py",
   "mimetype": "text/x-python",
   "name": "python",
   "nbconvert_exporter": "python",
   "pygments_lexer": "ipython3",
   "version": "3.8.8"
  }
 },
 "nbformat": 4,
 "nbformat_minor": 5
}
