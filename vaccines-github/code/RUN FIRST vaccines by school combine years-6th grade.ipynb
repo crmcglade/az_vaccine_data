{
 "cells": [
  {
   "cell_type": "code",
   "execution_count": 1,
   "id": "1298d16b",
   "metadata": {},
   "outputs": [],
   "source": [
    "import pandas as pd\n",
    "pd.set_option('display.max_columns', None)\n",
    "\n",
    "from skimpy import clean_columns\n"
   ]
  },
  {
   "cell_type": "code",
   "execution_count": 2,
   "id": "ff5dc088",
   "metadata": {},
   "outputs": [
    {
     "data": {
      "text/html": [
       "<pre style=\"white-space:pre;overflow-x:auto;line-height:normal;font-family:Menlo,'DejaVu Sans Mono',consolas,'Courier New',monospace\"><span style=\"color: #008080; text-decoration-color: #008080; font-weight: bold\">34</span> column names have been cleaned\n",
       "</pre>\n"
      ],
      "text/plain": [
       "\u001b[1;36m34\u001b[0m column names have been cleaned\n"
      ]
     },
     "metadata": {},
     "output_type": "display_data"
    }
   ],
   "source": [
    "df = pd.read_csv('/Users/cmcglade/Documents/vaccines/vaccines-github/sixthgrade_files/6th_grade_2015-2016-arizona-reporting-schools-coverage.csv')\n",
    "df = clean_columns(df)\n",
    "df = df[['school_name', \n",
    "         'school_type', \n",
    "         'school_address_one', \n",
    "         'city', \n",
    "         'county',\n",
    "       'zip_code', \n",
    "         'has_nurse', \n",
    "         'enrolled', \n",
    "         'pct_immune_tdap', 'pct_immune_polio',\n",
    "        'pct_immune_mmr', 'pct_immune_hepb', 'pct_immune_var', 'pct_exempt_tdap',\n",
    "        'pct_exempt_polio', 'pct_exempt_mmr', 'pct_exempt_hepb', 'pct_exempt_var']]\n",
    "df.columns = ['school', \n",
    "              'type', \n",
    "              'address', \n",
    "              'city', \n",
    "              'county', \n",
    "              'zip', \n",
    "              'nurse',\n",
    "              'enrolled', \n",
    "              'dtap', 'polio', 'mmr', 'hepb', 'var',\n",
    "             'exempt_dtap', 'exempt_polio', 'exempt_mmr',\n",
    "             'exempt_hepb', 'exempt_var']\n",
    "df['year'] = '2015'"
   ]
  },
  {
   "cell_type": "code",
   "execution_count": 3,
   "id": "56712c4c",
   "metadata": {},
   "outputs": [
    {
     "data": {
      "text/html": [
       "<pre style=\"white-space:pre;overflow-x:auto;line-height:normal;font-family:Menlo,'DejaVu Sans Mono',consolas,'Courier New',monospace\"><span style=\"color: #008080; text-decoration-color: #008080; font-weight: bold\">35</span> column names have been cleaned\n",
       "</pre>\n"
      ],
      "text/plain": [
       "\u001b[1;36m35\u001b[0m column names have been cleaned\n"
      ]
     },
     "metadata": {},
     "output_type": "display_data"
    }
   ],
   "source": [
    "df2 = pd.read_csv('/Users/cmcglade/Documents/vaccines/vaccines-github/sixthgrade_files/6th_grade_2016-arizona-reporting-schools-coverage.csv')\n",
    "df2 = clean_columns(df2)\n",
    "df2 = df2[['school_name', 'school_type', 'address_1', 'city', 'zip', 'county',\n",
    "          'school_nurse', 'enrolled', 'pct_immune_tdap', 'pct_immune_polio',\n",
    "          'pct_immune_mmr', 'pct_immune_hepb', 'pct_immune_var',\n",
    "          'pct_exempt_dtap',\n",
    "        'pct_exempt_polio', 'pct_exempt_mmr', 'pct_exempt_hepb', 'pct_exempt_var']]\n",
    "df2.columns = ['school', 'type', 'address', 'city', 'zip', 'county', 'nurse',\n",
    "              'enrolled', 'dtap', 'polio', 'mmr', 'hepb', 'var', 'exempt_tdap', 'exempt_polio', 'exempt_mmr',\n",
    "             'exempt_hepb', 'exempt_var']\n",
    "df2['year'] = '2016'"
   ]
  },
  {
   "cell_type": "code",
   "execution_count": 4,
   "id": "8bed0b33",
   "metadata": {},
   "outputs": [
    {
     "data": {
      "text/html": [
       "<pre style=\"white-space:pre;overflow-x:auto;line-height:normal;font-family:Menlo,'DejaVu Sans Mono',consolas,'Courier New',monospace\"><span style=\"color: #008080; text-decoration-color: #008080; font-weight: bold\">33</span> column names have been cleaned\n",
       "</pre>\n"
      ],
      "text/plain": [
       "\u001b[1;36m33\u001b[0m column names have been cleaned\n"
      ]
     },
     "metadata": {},
     "output_type": "display_data"
    }
   ],
   "source": [
    "df3 = pd.read_csv('/Users/cmcglade/Documents/vaccines/vaccines-github/sixthgrade_files/6th_grade_2017-arizona-reporting-schools-coverage.csv')\n",
    "df3 = clean_columns(df3)\n",
    "\n",
    "df3 = df3[['school_name', \n",
    "           'schooltype', \n",
    "           'address', \n",
    "           'city', \n",
    "           'zip', \n",
    "           'county',\n",
    "          'school_nurse', \n",
    "           'enrolledcount',\n",
    "           'pct_immune_tdap', \n",
    "           'pct_immune_polio',\n",
    "          'pct_immune_mmr', \n",
    "           'pct_immune_hepb', \n",
    "           'pct_immune_var',\n",
    "          'pct_exempt_tdap',\n",
    "        'pct_exempt_polio', 'pct_exempt_mmr', 'pct_exempt_hepb', 'pct_exempt_var']]\n",
    "\n",
    "df3.columns = ['school', \n",
    "               'type', \n",
    "               'address', \n",
    "               'city', \n",
    "               'zip', \n",
    "               'county',\n",
    "               'nurse',\n",
    "              'enrolled', \n",
    "               'dtap', \n",
    "               'polio', \n",
    "               'mmr', \n",
    "               'hepb', \n",
    "               'var', 'exempt_dtap', 'exempt_polio', 'exempt_mmr',\n",
    "             'exempt_hepb', 'exempt_var']\n",
    "df3['year'] = '2017'"
   ]
  },
  {
   "cell_type": "code",
   "execution_count": 5,
   "id": "ff0df566",
   "metadata": {},
   "outputs": [
    {
     "data": {
      "text/html": [
       "<pre style=\"white-space:pre;overflow-x:auto;line-height:normal;font-family:Menlo,'DejaVu Sans Mono',consolas,'Courier New',monospace\"><span style=\"color: #008080; text-decoration-color: #008080; font-weight: bold\">33</span> column names have been cleaned\n",
       "</pre>\n"
      ],
      "text/plain": [
       "\u001b[1;36m33\u001b[0m column names have been cleaned\n"
      ]
     },
     "metadata": {},
     "output_type": "display_data"
    }
   ],
   "source": [
    "df4 = pd.read_csv('/Users/cmcglade/Documents/vaccines/vaccines-github/sixthgrade_files/6th_grade_2018-arizona-reporting-schools-coverage.csv')\n",
    "df4 = clean_columns(df4)\n",
    "\n",
    "df4 = df4[['school_name', \n",
    "           'school_type', \n",
    "           'address', \n",
    "           'city', \n",
    "           'zip', \n",
    "           'county',\n",
    "          'school_nurse', \n",
    "           'enrolled',\n",
    "           '%_immune_tdap', \n",
    "           '%_immune_polio',\n",
    "          '%_immune_mmr', \n",
    "           '%_immune_hep_b', \n",
    "           '%_immune_var', '%_exempt_tdap',\n",
    "           '%_exempt_polio', '%_exempt_mmr', '%_exempt_hep_b', '%_exempt_var']]\n",
    "\n",
    "df4.columns = ['school', \n",
    "               'type', \n",
    "               'address', \n",
    "               'city', \n",
    "               'zip', \n",
    "               'county',\n",
    "               'nurse',\n",
    "              'enrolled', \n",
    "               'dtap', \n",
    "               'polio', \n",
    "               'mmr', \n",
    "               'hepb', \n",
    "               'var', 'exempt_dtap', 'exempt_polio', 'exempt_mmr',\n",
    "             'exempt_hepb', 'exempt_var']\n",
    "df4['year'] = '2018'"
   ]
  },
  {
   "cell_type": "code",
   "execution_count": 6,
   "id": "0fcc15ce",
   "metadata": {},
   "outputs": [
    {
     "data": {
      "text/html": [
       "<pre style=\"white-space:pre;overflow-x:auto;line-height:normal;font-family:Menlo,'DejaVu Sans Mono',consolas,'Courier New',monospace\"><span style=\"color: #008080; text-decoration-color: #008080; font-weight: bold\">33</span> column names have been cleaned\n",
       "</pre>\n"
      ],
      "text/plain": [
       "\u001b[1;36m33\u001b[0m column names have been cleaned\n"
      ]
     },
     "metadata": {},
     "output_type": "display_data"
    },
    {
     "data": {
      "text/plain": [
       "(1018, 19)"
      ]
     },
     "execution_count": 6,
     "metadata": {},
     "output_type": "execute_result"
    }
   ],
   "source": [
    "df5 = pd.read_csv('/Users/cmcglade/Documents/vaccines/vaccines-github/sixthgrade_files/6th_grade_2019-arizona-reporting-schools-coverage.csv')\n",
    "df5 = clean_columns(df5)\n",
    "\n",
    "df5 = df5[['school_name', \n",
    "           'school_type', \n",
    "           'address', \n",
    "           'city', \n",
    "           'zip', \n",
    "           'county',\n",
    "          'school_nurse', \n",
    "           'enrolled',\n",
    "           '%_immune_tdap', \n",
    "           '%_immune_polio',\n",
    "          '%_immune_mmr', \n",
    "           '%_immune_hep_b', \n",
    "           '%_immune_var', '%_exempt_tdap',\n",
    "           '%_exempt_polio', '%_exempt_mmr', '%_exempt_hep_b', '%_exempt_var']]\n",
    "\n",
    "df5.columns = ['school', \n",
    "               'type', \n",
    "               'address', \n",
    "               'city', \n",
    "               'zip', \n",
    "               'county',\n",
    "               'nurse',\n",
    "              'enrolled', \n",
    "               'dtap', \n",
    "               'polio', \n",
    "               'mmr', \n",
    "               'hepb', \n",
    "               'var', 'exempt_dtap', 'exempt_polio', 'exempt_mmr',\n",
    "             'exempt_hepb', 'exempt_var']\n",
    "df5['year'] = '2019'\n",
    "df5.shape"
   ]
  },
  {
   "cell_type": "code",
   "execution_count": 7,
   "id": "841de49d",
   "metadata": {},
   "outputs": [
    {
     "data": {
      "text/html": [
       "<pre style=\"white-space:pre;overflow-x:auto;line-height:normal;font-family:Menlo,'DejaVu Sans Mono',consolas,'Courier New',monospace\"><span style=\"color: #008080; text-decoration-color: #008080; font-weight: bold\">30</span> column names have been cleaned\n",
       "</pre>\n"
      ],
      "text/plain": [
       "\u001b[1;36m30\u001b[0m column names have been cleaned\n"
      ]
     },
     "metadata": {},
     "output_type": "display_data"
    }
   ],
   "source": [
    "df6 = pd.read_csv('/Users/cmcglade/Documents/vaccines/vaccines-github/sixthgrade_files/6th_grade_2020-arizona-reporting-schools-coverage.csv')\n",
    "df6 = clean_columns(df6)\n",
    "\n",
    "df6 = df6[['school_name', \n",
    "           'school_type', \n",
    "           'address', \n",
    "           'city', \n",
    "           'zip', \n",
    "           'county',\n",
    "          'school_nurse', \n",
    "           'enrolled',\n",
    "           '%_immune_tdap', \n",
    "           '%_immune_polio',\n",
    "          '%_immune_mmr', \n",
    "           '%_immune_hep_b', \n",
    "           '%_immune_var', '%_exempt_tdap',\n",
    "           '%_exempt_polio', '%_exempt_mmr', '%_exempt_hep_b', '%_exempt_var']]\n",
    "\n",
    "df6.columns = ['school', \n",
    "               'type', \n",
    "               'address', \n",
    "               'city', \n",
    "               'zip', \n",
    "               'county',\n",
    "               'nurse',\n",
    "              'enrolled', \n",
    "               'dtap', \n",
    "               'polio', \n",
    "               'mmr', \n",
    "               'hepb', \n",
    "               'var', 'exempt_dtap', 'exempt_polio', 'exempt_mmr',\n",
    "             'exempt_hepb', 'exempt_var']\n",
    "df6['year'] = '2020'"
   ]
  },
  {
   "cell_type": "code",
   "execution_count": 8,
   "id": "4a3e3828",
   "metadata": {},
   "outputs": [
    {
     "data": {
      "text/html": [
       "<pre style=\"white-space:pre;overflow-x:auto;line-height:normal;font-family:Menlo,'DejaVu Sans Mono',consolas,'Courier New',monospace\"><span style=\"color: #008080; text-decoration-color: #008080; font-weight: bold\">30</span> column names have been cleaned\n",
       "</pre>\n"
      ],
      "text/plain": [
       "\u001b[1;36m30\u001b[0m column names have been cleaned\n"
      ]
     },
     "metadata": {},
     "output_type": "display_data"
    }
   ],
   "source": [
    "df7 = pd.read_csv('/Users/cmcglade/Documents/vaccines/vaccines-github/sixthgrade_files/6th_grade_2021-arizona-reporting-schools-coverage.csv')\n",
    "df7 = clean_columns(df7)\n",
    "\n",
    "df7 = df7[['school_name', \n",
    "           'school_type', \n",
    "           'address', \n",
    "           'city', \n",
    "           'zip', \n",
    "           'county',\n",
    "          'school_nurse', \n",
    "           'enrolled',\n",
    "           '%_immune_tdap', \n",
    "           '%_immune_polio',\n",
    "          '%_immune_mmr', \n",
    "           '%_immune_hep_b', \n",
    "           '%_immune_var', '%_exempt_tdap',\n",
    "           '%_exempt_polio', '%_exempt_mmr', '%_exempt_hep_b', '%_exempt_var']]\n",
    "\n",
    "df7.columns = ['school', \n",
    "               'type', \n",
    "               'address', \n",
    "               'city', \n",
    "               'zip', \n",
    "               'county',\n",
    "               'nurse',\n",
    "              'enrolled', \n",
    "               'dtap', \n",
    "               'polio', \n",
    "               'mmr', \n",
    "               'hepb', \n",
    "               'var', 'exempt_dtap', 'exempt_polio', 'exempt_mmr',\n",
    "             'exempt_hepb', 'exempt_var']\n",
    "df7['year'] = '2021'"
   ]
  },
  {
   "cell_type": "code",
   "execution_count": 9,
   "id": "5b2c17b5",
   "metadata": {},
   "outputs": [
    {
     "data": {
      "text/html": [
       "<pre style=\"white-space:pre;overflow-x:auto;line-height:normal;font-family:Menlo,'DejaVu Sans Mono',consolas,'Courier New',monospace\"><span style=\"color: #008080; text-decoration-color: #008080; font-weight: bold\">30</span> column names have been cleaned\n",
       "</pre>\n"
      ],
      "text/plain": [
       "\u001b[1;36m30\u001b[0m column names have been cleaned\n"
      ]
     },
     "metadata": {},
     "output_type": "display_data"
    }
   ],
   "source": [
    "df8 = pd.read_csv('/Users/cmcglade/Documents/vaccines/vaccines-github/sixthgrade_files/6th_grade_2022-arizona-reporting-schools-coverage.csv')\n",
    "df8 = clean_columns(df8)\n",
    "\n",
    "df8 = df8[['school_name', \n",
    "           'school_type', \n",
    "           'address', \n",
    "           'city', \n",
    "           'zip', \n",
    "           'county',\n",
    "          'school_nurse', \n",
    "           'enrolled',\n",
    "           '%_immune_tdap', \n",
    "           '%_immune_polio',\n",
    "          '%_immune_mmr', \n",
    "           '%_immune_hep_b', \n",
    "           '%_immune_var', '%_exempt_tdap',\n",
    "           '%_exempt_polio', '%_exempt_mmr', '%_exempt_hep_b', '%_exempt_var']]\n",
    "\n",
    "df8.columns = ['school', \n",
    "               'type', \n",
    "               'address', \n",
    "               'city', \n",
    "               'zip', \n",
    "               'county',\n",
    "               'nurse',\n",
    "              'enrolled', \n",
    "               'dtap', \n",
    "               'polio', \n",
    "               'mmr', \n",
    "               'hepb', \n",
    "               'var', 'exempt_dtap', 'exempt_polio', 'exempt_mmr',\n",
    "             'exempt_hepb', 'exempt_var']\n",
    "df8['year'] = '2022'"
   ]
  },
  {
   "cell_type": "code",
   "execution_count": 12,
   "id": "fc6bf177",
   "metadata": {},
   "outputs": [
    {
     "data": {
      "text/html": [
       "<pre style=\"white-space:pre;overflow-x:auto;line-height:normal;font-family:Menlo,'DejaVu Sans Mono',consolas,'Courier New',monospace\"><span style=\"color: #008080; text-decoration-color: #008080; font-weight: bold\">30</span> column names have been cleaned\n",
       "</pre>\n"
      ],
      "text/plain": [
       "\u001b[1;36m30\u001b[0m column names have been cleaned\n"
      ]
     },
     "metadata": {},
     "output_type": "display_data"
    }
   ],
   "source": [
    "df9 = pd.read_csv('/Users/cmcglade/Documents/vaccines/vaccines-github/sixthgrade_files/6th_grade_2023-arizona-reporting-schools-coverage.csv')\n",
    "df9 = clean_columns(df9)\n",
    "\n",
    "df9 = df9[['school_name', \n",
    "           'school_type', \n",
    "           'address', \n",
    "           'city', \n",
    "           'zip', \n",
    "           'county',\n",
    "          'school_nurse', \n",
    "           'enrolled',\n",
    "           '%_immune_tdap', \n",
    "           '%_immune_polio',\n",
    "          '%_immune_mmr', \n",
    "           '%_immune_hep_b', \n",
    "           '%_immune_var', '%_exempt_tdap',\n",
    "           '%_exempt_polio', '%_exempt_mmr', '%_exempt_hep_b', '%_exempt_var']]\n",
    "\n",
    "df9.columns = ['school', \n",
    "               'type', \n",
    "               'address', \n",
    "               'city', \n",
    "               'zip', \n",
    "               'county',\n",
    "               'nurse',\n",
    "              'enrolled', \n",
    "               'dtap', \n",
    "               'polio', \n",
    "               'mmr', \n",
    "               'hepb', \n",
    "               'var', 'exempt_dtap', 'exempt_polio', 'exempt_mmr',\n",
    "             'exempt_hepb', 'exempt_var']\n",
    "df9['year'] = '2023'"
   ]
  },
  {
   "cell_type": "code",
   "execution_count": 13,
   "id": "f511082e",
   "metadata": {},
   "outputs": [],
   "source": [
    "master = pd.concat([df, df2, df3, df4, df5, df6, df7, df8, df9], \n",
    "                  ignore_index = True)\n",
    "master.to_csv('/Users/cmcglade/Documents/vaccines/vaccines-github/output_files/sixth_grade_vax.csv')"
   ]
  },
  {
   "cell_type": "code",
   "execution_count": null,
   "id": "332d0564",
   "metadata": {},
   "outputs": [],
   "source": []
  }
 ],
 "metadata": {
  "kernelspec": {
   "display_name": "Python 3 (ipykernel)",
   "language": "python",
   "name": "python3"
  },
  "language_info": {
   "codemirror_mode": {
    "name": "ipython",
    "version": 3
   },
   "file_extension": ".py",
   "mimetype": "text/x-python",
   "name": "python",
   "nbconvert_exporter": "python",
   "pygments_lexer": "ipython3",
   "version": "3.8.8"
  }
 },
 "nbformat": 4,
 "nbformat_minor": 5
}
